{
 "cells": [
  {
   "cell_type": "markdown",
   "metadata": {},
   "source": [
    "# WeatherPy\n",
    "----\n",
    "\n",
    "#### Note\n",
    "* Instructions have been included for each segment. You do not have to follow them exactly, but they are included to help you think through the steps."
   ]
  },
  {
   "cell_type": "code",
   "execution_count": null,
   "metadata": {
    "scrolled": true
   },
   "outputs": [],
   "source": [
    "# Dependencies and Setup\n",
    "import matplotlib.pyplot as plt\n",
    "import pandas as pd\n",
    "import numpy as np\n",
    "import requests\n",
    "import time\n",
    "from scipy.stats import linregress\n",
    "\n",
    "# Import API key\n",
    "from api_keys import weather_api_key\n",
    "\n",
    "# Incorporated citipy to determine city based on latitude and longitude\n",
    "from citipy import citipy\n",
    "\n",
    "# Output File (CSV)\n",
    "output_data_file = \"output_data/cities.csv\"\n",
    "\n",
    "# Range of latitudes and longitudes\n",
    "lat_range = (-90, 90)\n",
    "lng_range = (-180, 180)"
   ]
  },
  {
   "cell_type": "markdown",
   "metadata": {},
   "source": [
    "## Generate Cities List"
   ]
  },
  {
   "cell_type": "code",
   "execution_count": null,
   "metadata": {},
   "outputs": [],
   "source": [
    "# List for holding lat_lngs and cities\n",
    "lat_lngs = []\n",
    "cities = []\n",
    "\n",
    "# Create a set of random lat and lng combinations\n",
    "lats = np.random.uniform(lat_range[0], lat_range[1], size=1500)\n",
    "lngs = np.random.uniform(lng_range[0], lng_range[1], size=1500)\n",
    "lat_lngs = zip(lats, lngs)\n",
    "\n",
    "# Identify nearest city for each lat, lng combination\n",
    "for lat_lng in lat_lngs:\n",
    "    city = citipy.nearest_city(lat_lng[0], lat_lng[1]).city_name\n",
    "    \n",
    "    # If the city is unique, then add it to a our cities list\n",
    "    if city not in cities:\n",
    "        cities.append(city)\n",
    "\n",
    "# Print the city count to confirm sufficient count\n",
    "city_count = len(cities)\n",
    "city_count"
   ]
  },
  {
   "cell_type": "markdown",
   "metadata": {},
   "source": [
    "### Perform API Calls\n",
    "* Perform a weather check on each city using a series of successive API calls.\n",
    "* Include a print log of each city as it'sbeing processed (with the city number and city name).\n"
   ]
  },
  {
   "cell_type": "code",
   "execution_count": null,
   "metadata": {},
   "outputs": [],
   "source": [
    "# # Save config information\n",
    "\n",
    "city = \"Chicago\"\n",
    "units = 'Imperial'\n",
    "\n",
    "# # Build query URL just to test it out...I printed it then deleted the print line\n",
    "\n",
    "\n",
    "url = \"http://api.openweathermap.org/data/2.5/weather?\"\n",
    "query_url = f\"{url}appid={weather_api_key}&units={units}&q={city}\"\n",
    "\n",
    "\n",
    "\n"
   ]
  },
  {
   "cell_type": "code",
   "execution_count": null,
   "metadata": {},
   "outputs": [],
   "source": []
  },
  {
   "cell_type": "code",
   "execution_count": null,
   "metadata": {},
   "outputs": [],
   "source": []
  },
  {
   "cell_type": "code",
   "execution_count": null,
   "metadata": {},
   "outputs": [],
   "source": [
    "city_results = []\n",
    "lats = []\n",
    "lons = []\n",
    "max_temps = []\n",
    "humiditys = []\n",
    "cloud_pcts = []\n",
    "wind_speeds = []\n",
    "countries = []\n",
    "dates = []"
   ]
  },
  {
   "cell_type": "code",
   "execution_count": null,
   "metadata": {},
   "outputs": [],
   "source": [
    "# # TEST CELL\n",
    "# query_url = f\"{url}appid={weather_api_key}&units={units}&q=\"\n",
    "# cities_test = [\"Chicago\",\"London\",\"StrawnygiJoe\",\"Rockford\",\"Sukkur\",\"Sydney\",\"Jakarta\",\"Johannesburg\",\"Lima\"]\n",
    "# city_count_test=len(cities_test)\n",
    "\n",
    "# for x in range(city_count_test):    #city in cities:\n",
    "#     time.sleep(1)\n",
    "#     weather_response = requests.get(query_url+str(cities_test[x])).json()\n",
    "#     print(f\"Processing record {x} of {city_count_test} | {cities_test[x]}\")\n",
    "#     # need to use exception handling if city not found\n",
    "#     try:\n",
    "#         city_results.append(weather_response['name'])\n",
    "#         lats.append(weather_response['coord']['lat']) \n",
    "#         lons.append(weather_response['coord']['lon']) \n",
    "#         max_temps.append(weather_response['main']['temp_max']) \n",
    "#         humiditys.append(weather_response['main']['humidity'])\n",
    "#         cloud_pcts.append(weather_response['clouds']['all'])\n",
    "#         wind_speeds.append(weather_response['wind']['speed'])\n",
    "#         countries.append(weather_response['sys']['country'])\n",
    "#         dates.append(weather_response['dt'])\n",
    "#     except KeyError:\n",
    "#         print(f\"    The city of {cities_test[x]} not found, dummy.  Skipping....\")\n",
    "#         pass\n",
    "# print(\"\\n-----------------------------\\nData Retrieval Complete\\n-----------------------------\\n\")"
   ]
  },
  {
   "cell_type": "code",
   "execution_count": null,
   "metadata": {},
   "outputs": [],
   "source": [
    "# REAL CELL\n",
    "units = 'Imperial'\n",
    "query_url = f\"{url}appid={weather_api_key}&units={units}&q=\"\n",
    "\n",
    "for x in range(city_count):    #city in cities:\n",
    "    time.sleep(1)\n",
    "    weather_response = requests.get(query_url+str(cities[x])).json()\n",
    "    print(f\"Processing record {x} of {city_count} | {cities[x]}\")\n",
    "    # need to use exception handling if city not found\n",
    "    try:\n",
    "        city_results.append(weather_response['name'])\n",
    "        lats.append(weather_response['coord']['lat']) \n",
    "        lons.append(weather_response['coord']['lon']) \n",
    "        max_temps.append(weather_response['main']['temp_max']) \n",
    "        humiditys.append(weather_response['main']['humidity'])\n",
    "        cloud_pcts.append(weather_response['clouds']['all'])\n",
    "        wind_speeds.append(weather_response['wind']['speed'])\n",
    "        countries.append(weather_response['sys']['country'])\n",
    "        dates.append(weather_response['dt'])\n",
    "    except KeyError:\n",
    "        print(f\"    The city of {cities[x]} not found, dummy.  Skipping....\")\n",
    "        pass\n",
    "print(\"\\n-----------------------------\\nData Retrieval Complete\\n-----------------------------\\n\")"
   ]
  },
  {
   "cell_type": "code",
   "execution_count": null,
   "metadata": {},
   "outputs": [],
   "source": []
  },
  {
   "cell_type": "markdown",
   "metadata": {},
   "source": [
    "### Convert Raw Data to DataFrame\n",
    "* Export the city data into a .csv.\n",
    "* Display the DataFrame"
   ]
  },
  {
   "cell_type": "code",
   "execution_count": null,
   "metadata": {},
   "outputs": [],
   "source": [
    "# city data is converted to a csv at the end of the notebook"
   ]
  },
  {
   "cell_type": "code",
   "execution_count": null,
   "metadata": {},
   "outputs": [],
   "source": [
    "# Create DataFrame\n",
    "city_data_df = pd.DataFrame({\n",
    "    'City': city_results,\n",
    "    'Lat': lats,\n",
    "    'Lng': lons,\n",
    "    'Max Temp': max_temps,\n",
    "    'Humidity': humiditys,\n",
    "    'Cloudiness': cloud_pcts,\n",
    "    'Wind Speed': wind_speeds,\n",
    "    'Country': countries,\n",
    "    'Date': dates\n",
    "\n",
    "})\n",
    "city_data_df"
   ]
  },
  {
   "cell_type": "code",
   "execution_count": null,
   "metadata": {},
   "outputs": [],
   "source": []
  },
  {
   "cell_type": "code",
   "execution_count": null,
   "metadata": {},
   "outputs": [],
   "source": []
  },
  {
   "cell_type": "code",
   "execution_count": null,
   "metadata": {},
   "outputs": [],
   "source": []
  },
  {
   "cell_type": "code",
   "execution_count": null,
   "metadata": {},
   "outputs": [],
   "source": []
  },
  {
   "cell_type": "code",
   "execution_count": null,
   "metadata": {},
   "outputs": [],
   "source": []
  },
  {
   "cell_type": "code",
   "execution_count": null,
   "metadata": {},
   "outputs": [],
   "source": []
  },
  {
   "cell_type": "code",
   "execution_count": null,
   "metadata": {},
   "outputs": [],
   "source": []
  },
  {
   "cell_type": "code",
   "execution_count": null,
   "metadata": {},
   "outputs": [],
   "source": []
  },
  {
   "cell_type": "code",
   "execution_count": null,
   "metadata": {},
   "outputs": [],
   "source": [
    "#prep for summary stats\n",
    "city_data_2_df = city_data_df[[\"City\",\"Lat\",\"Lng\",\"Max Temp\",\"Humidity\",\"Cloudiness\",\"Wind Speed\",\"Date\"]]\n",
    "city_data_3_df = city_data_2_df.set_index(\"City\")\n",
    "city_data_3_df"
   ]
  },
  {
   "cell_type": "code",
   "execution_count": null,
   "metadata": {},
   "outputs": [],
   "source": []
  },
  {
   "cell_type": "code",
   "execution_count": null,
   "metadata": {},
   "outputs": [],
   "source": [
    "city_data_3_df.agg(['count','mean','std','min','max'] )\n"
   ]
  },
  {
   "cell_type": "code",
   "execution_count": null,
   "metadata": {},
   "outputs": [],
   "source": [
    "city_data_3_df.quantile([.25,.5,.75])\n"
   ]
  },
  {
   "cell_type": "code",
   "execution_count": null,
   "metadata": {},
   "outputs": [],
   "source": []
  },
  {
   "cell_type": "code",
   "execution_count": null,
   "metadata": {},
   "outputs": [],
   "source": []
  },
  {
   "cell_type": "code",
   "execution_count": null,
   "metadata": {},
   "outputs": [],
   "source": []
  },
  {
   "cell_type": "markdown",
   "metadata": {},
   "source": [
    "## Inspect the data and remove the cities where the humidity > 100%.\n",
    "----\n",
    "Skip this step if there are no cities that have humidity > 100%. "
   ]
  },
  {
   "cell_type": "code",
   "execution_count": null,
   "metadata": {},
   "outputs": [],
   "source": [
    "city_data_clean_df = city_data_df.loc[ (city_data_df[\"Humidity\"] <= 100) , :]\n",
    "\n",
    "city_data_clean_df                           "
   ]
  },
  {
   "cell_type": "code",
   "execution_count": null,
   "metadata": {},
   "outputs": [],
   "source": [
    " #  prep for .agg method\n",
    "city_data_clean_2_df = city_data_clean_df[[\"City\",\"Lat\",\"Lng\",\"Max Temp\",\"Humidity\",\"Cloudiness\",\"Wind Speed\",\"Date\"]]\n",
    "city_data_clean_3_df = city_data_clean_2_df.set_index(\"City\")\n",
    "city_data_clean_3_df"
   ]
  },
  {
   "cell_type": "code",
   "execution_count": null,
   "metadata": {},
   "outputs": [],
   "source": [
    "city_data_3_df.agg(['count','mean','std','min','max'] )"
   ]
  },
  {
   "cell_type": "code",
   "execution_count": null,
   "metadata": {},
   "outputs": [],
   "source": [
    "city_data_clean_3_df.quantile([.25,.5,.75])\n"
   ]
  },
  {
   "cell_type": "code",
   "execution_count": null,
   "metadata": {},
   "outputs": [],
   "source": []
  },
  {
   "cell_type": "code",
   "execution_count": null,
   "metadata": {},
   "outputs": [],
   "source": []
  },
  {
   "cell_type": "code",
   "execution_count": null,
   "metadata": {},
   "outputs": [],
   "source": []
  },
  {
   "cell_type": "code",
   "execution_count": null,
   "metadata": {},
   "outputs": [],
   "source": []
  },
  {
   "cell_type": "code",
   "execution_count": null,
   "metadata": {},
   "outputs": [],
   "source": []
  },
  {
   "cell_type": "code",
   "execution_count": null,
   "metadata": {},
   "outputs": [],
   "source": []
  },
  {
   "cell_type": "code",
   "execution_count": null,
   "metadata": {},
   "outputs": [],
   "source": []
  },
  {
   "cell_type": "code",
   "execution_count": null,
   "metadata": {},
   "outputs": [],
   "source": []
  },
  {
   "cell_type": "code",
   "execution_count": null,
   "metadata": {},
   "outputs": [],
   "source": []
  },
  {
   "cell_type": "code",
   "execution_count": null,
   "metadata": {},
   "outputs": [],
   "source": [
    "#  Get the indices of cities that have humidity over 100%.\n",
    "city_humid_df = city_data_df.loc[ (city_data_df[\"Humidity\"] > 100) , :]\n",
    "city_humid_df"
   ]
  },
  {
   "cell_type": "code",
   "execution_count": null,
   "metadata": {},
   "outputs": [],
   "source": [
    "city_humid_df.index"
   ]
  },
  {
   "cell_type": "code",
   "execution_count": null,
   "metadata": {},
   "outputs": [],
   "source": []
  },
  {
   "cell_type": "code",
   "execution_count": null,
   "metadata": {},
   "outputs": [],
   "source": []
  },
  {
   "cell_type": "code",
   "execution_count": null,
   "metadata": {},
   "outputs": [],
   "source": []
  },
  {
   "cell_type": "code",
   "execution_count": null,
   "metadata": {},
   "outputs": [],
   "source": []
  },
  {
   "cell_type": "code",
   "execution_count": null,
   "metadata": {},
   "outputs": [],
   "source": [
    "# Make a new DataFrame equal to the city data to drop all humidity outliers by index.\n",
    "# Passing \"inplace=False\" will make a copy of the city_data DataFrame, which we call \"clean_city_data\".\n"
   ]
  },
  {
   "cell_type": "code",
   "execution_count": null,
   "metadata": {},
   "outputs": [],
   "source": [
    "\n"
   ]
  },
  {
   "cell_type": "markdown",
   "metadata": {},
   "source": [
    "## Plotting the Data\n",
    "* Use proper labeling of the plots using plot titles (including date of analysis) and axes labels.\n",
    "* Save the plotted figures as .pngs."
   ]
  },
  {
   "cell_type": "markdown",
   "metadata": {},
   "source": [
    "## Latitude vs. Temperature Plot"
   ]
  },
  {
   "cell_type": "code",
   "execution_count": null,
   "metadata": {},
   "outputs": [],
   "source": [
    "# Latitude vs Temp Scatter Plot\n",
    "plt.scatter(city_data_clean_df['Lat'],city_data_clean_df['Max Temp'],marker=\"o\")\n",
    "\n",
    "# tittles and axis labels\n",
    "plt.title(\"City Latitude vs. Max Temperature\")\n",
    "plt.ylabel(\"Max Temperature (F)\")\n",
    "plt.xlabel(\"Latitude\")\n",
    "plt.grid(True)\n",
    "\n",
    "plt.ylim(0,120)\n",
    "\n",
    "# Save the figure\n",
    "plt.savefig(\"LatitudeVsMaxTempPlot.png\")\n",
    "\n",
    "# Show plot\n",
    "plt.show()\n",
    "\n",
    "\n"
   ]
  },
  {
   "cell_type": "code",
   "execution_count": null,
   "metadata": {},
   "outputs": [],
   "source": [
    "print(\"The latitude vs temperature plot indicates that the highest temperatures are near the equator (latitude = 0)\")\n",
    "print(\"It maximum temperatures drop off when you get further away from the equator, either north or south.\")\n",
    "print(\"It also indicates there are more cities in the north hemisphere.\")"
   ]
  },
  {
   "cell_type": "code",
   "execution_count": null,
   "metadata": {},
   "outputs": [],
   "source": []
  },
  {
   "cell_type": "code",
   "execution_count": null,
   "metadata": {
    "scrolled": true
   },
   "outputs": [],
   "source": []
  },
  {
   "cell_type": "markdown",
   "metadata": {},
   "source": [
    "## Latitude vs. Humidity Plot"
   ]
  },
  {
   "cell_type": "code",
   "execution_count": null,
   "metadata": {},
   "outputs": [],
   "source": [
    "# Latitude vs Humidity Plot\n",
    "plt.scatter(city_data_clean_df['Lat'],city_data_clean_df['Humidity'],marker=\"o\")\n",
    "\n",
    "# tittles and axis labels\n",
    "plt.title(\"City Latitude vs. Humidity\")\n",
    "plt.ylabel(\"Humidity (%)\")\n",
    "plt.xlabel(\"Latitude\")\n",
    "plt.grid(True)\n",
    "\n",
    "plt.ylim(0,120)\n",
    "\n",
    "# Save the figure\n",
    "plt.savefig(\"LatitudeVsHumidityPlot.png\")\n",
    "\n",
    "# Show plot\n",
    "plt.show()"
   ]
  },
  {
   "cell_type": "code",
   "execution_count": null,
   "metadata": {},
   "outputs": [],
   "source": [
    "print(\"The latitude vs humidity plot indicates that there may not be much correlation between these two factors\")\n",
    "print(\"That said, the chart seems to indicate there may be slightly higher humidities in the northern hemisphere than the south....\")\n",
    "print(\"That may be due to some cities in the south hemisphere still experiencing early spring /late winter conditions, or \\n it may be somewhat of an illusion given there are more cities (and more data) in the north.\")"
   ]
  },
  {
   "cell_type": "code",
   "execution_count": null,
   "metadata": {},
   "outputs": [],
   "source": []
  },
  {
   "cell_type": "code",
   "execution_count": null,
   "metadata": {},
   "outputs": [],
   "source": []
  },
  {
   "cell_type": "code",
   "execution_count": null,
   "metadata": {},
   "outputs": [],
   "source": []
  },
  {
   "cell_type": "markdown",
   "metadata": {},
   "source": [
    "## Latitude vs. Cloudiness Plot"
   ]
  },
  {
   "cell_type": "code",
   "execution_count": null,
   "metadata": {},
   "outputs": [],
   "source": [
    "# Latitude vs Cloud Plot\n",
    "plt.scatter(city_data_clean_df['Lat'],city_data_clean_df['Humidity'],marker=\"o\")\n",
    "\n",
    "# tittles and axis labels\n",
    "plt.title(\"City Latitude vs. Cloudiness\")\n",
    "plt.ylabel(\"Cloudiness (%)\")\n",
    "plt.xlabel(\"Latitude\")\n",
    "plt.grid(True)\n",
    "\n",
    "plt.ylim(0,120)\n",
    "\n",
    "# Save the figure\n",
    "plt.savefig(\"LatitudeVsCloudPlot.png\")\n",
    "\n",
    "# Show plot\n",
    "plt.show()"
   ]
  },
  {
   "cell_type": "code",
   "execution_count": null,
   "metadata": {},
   "outputs": [],
   "source": [
    "print(\"As with humidity, the latitude vs cloudiness plot indicates that there may not be much correlation between these two factors\")\n"
   ]
  },
  {
   "cell_type": "code",
   "execution_count": null,
   "metadata": {},
   "outputs": [],
   "source": []
  },
  {
   "cell_type": "code",
   "execution_count": null,
   "metadata": {},
   "outputs": [],
   "source": []
  },
  {
   "cell_type": "markdown",
   "metadata": {},
   "source": [
    "## Latitude vs. Wind Speed Plot"
   ]
  },
  {
   "cell_type": "code",
   "execution_count": null,
   "metadata": {},
   "outputs": [],
   "source": [
    "# Latitude vs Wind Speed Plot\n",
    "plt.scatter(city_data_clean_df['Lat'],city_data_clean_df['Wind Speed'],marker=\"o\")\n",
    "\n",
    "# tittles and axis labels\n",
    "plt.title(\"City Latitude vs. Wind Speed\")\n",
    "plt.ylabel(\"Wind Speed (mph)\")\n",
    "plt.xlabel(\"Latitude\")\n",
    "plt.grid(True)\n",
    "\n",
    "plt.ylim(0,60)\n",
    "\n",
    "# Save the figure\n",
    "plt.savefig(\"LatitudeVsWindPlot.png\")\n",
    "\n",
    "# Show plot\n",
    "plt.show()"
   ]
  },
  {
   "cell_type": "code",
   "execution_count": null,
   "metadata": {},
   "outputs": [],
   "source": [
    "print(\"As with humidity and cloudiness, the latitude vs cloudiness plot indicates that there may not be much correlation\\n between wind and latitude.\")\n",
    "print(\"There may be slightly higher wind points in the north, but again it is difficult to tell \\ngiven the uneven distribution of cities in the two hemispheres.\")"
   ]
  },
  {
   "cell_type": "code",
   "execution_count": null,
   "metadata": {},
   "outputs": [],
   "source": []
  },
  {
   "cell_type": "code",
   "execution_count": null,
   "metadata": {},
   "outputs": [],
   "source": []
  },
  {
   "cell_type": "code",
   "execution_count": null,
   "metadata": {},
   "outputs": [],
   "source": []
  },
  {
   "cell_type": "markdown",
   "metadata": {},
   "source": [
    "## Linear Regression"
   ]
  },
  {
   "cell_type": "code",
   "execution_count": null,
   "metadata": {},
   "outputs": [],
   "source": [
    "city_data_clean_north_df = city_data_clean_df.loc[ (city_data_clean_df[\"Lat\"] >= 0) , :]\n",
    "\n",
    "city_data_clean_north_df       "
   ]
  },
  {
   "cell_type": "code",
   "execution_count": null,
   "metadata": {},
   "outputs": [],
   "source": [
    "city_data_clean_south_df = city_data_clean_df.loc[ (city_data_clean_df[\"Lat\"] < 0) , :]\n",
    "\n",
    "city_data_clean_south_df"
   ]
  },
  {
   "cell_type": "code",
   "execution_count": null,
   "metadata": {},
   "outputs": [],
   "source": [
    "# prep series for plotting and linear regression\n",
    "\n",
    "lat_north_values = city_data_clean_north_df ['Lat']\n",
    "lat_south_values = city_data_clean_south_df ['Lat']\n",
    "temp_north_values = city_data_clean_north_df ['Max Temp']\n",
    "temp_south_values = city_data_clean_south_df ['Max Temp']\n",
    "cloud_north_values = city_data_clean_north_df ['Cloudiness']\n",
    "cloud_south_values = city_data_clean_south_df ['Cloudiness']\n",
    "humid_north_values = city_data_clean_north_df ['Humidity']\n",
    "humid_south_values = city_data_clean_south_df ['Humidity']\n",
    "wind_north_values = city_data_clean_north_df ['Wind Speed']\n",
    "wind_south_values = city_data_clean_south_df ['Wind Speed']"
   ]
  },
  {
   "cell_type": "code",
   "execution_count": null,
   "metadata": {},
   "outputs": [],
   "source": []
  },
  {
   "cell_type": "code",
   "execution_count": null,
   "metadata": {},
   "outputs": [],
   "source": []
  },
  {
   "cell_type": "markdown",
   "metadata": {},
   "source": [
    "####  Northern Hemisphere - Max Temp vs. Latitude Linear Regression"
   ]
  },
  {
   "cell_type": "code",
   "execution_count": null,
   "metadata": {},
   "outputs": [],
   "source": []
  },
  {
   "cell_type": "code",
   "execution_count": null,
   "metadata": {},
   "outputs": [],
   "source": []
  },
  {
   "cell_type": "code",
   "execution_count": null,
   "metadata": {},
   "outputs": [],
   "source": [
    "# Latitude vs Temp Scatter Plot with regression north hemisphere\n",
    "\n",
    "(slope, intercept, rvalue, pvalue, stderr) = linregress(lat_north_values, temp_north_values)\n",
    "\n",
    "# Get regression values\n",
    "regress_values_north = lat_north_values * slope + intercept\n",
    "line_eq_north= \"y = \" + str(round(slope,2)) + \"x +\" + str(round(intercept,2))\n",
    "\n",
    "# Create Plot\n",
    "plt.scatter(lat_north_values,temp_north_values,marker=\"o\")\n",
    "plt.plot(lat_north_values,regress_values_north,\"r-\")\n",
    "\n",
    "\n",
    "# Label plot and annotate the line equation\n",
    "plt.title(\"City Latitude vs. Max Temperature with Linear Regression Line\\nNorth Hemisphere\")\n",
    "plt.ylabel(\"Max Temperature (F)\")\n",
    "plt.xlabel(\"Latitude\")\n",
    "plt.grid(True)\n",
    "plt.annotate(line_eq_north,(20,15),fontsize=15,color=\"red\") \n",
    "# I cannot get the line equation to annotate correctly.  \n",
    "# per class, the () tuple specifies the lower left corner of the equation\n",
    "# but after 20 minutes I still can't figure it out and don't have an hour to spend on it\n",
    "\n",
    "# Print r value\n",
    "print(f\"The r-squared value is: {rvalue**2}\")\n",
    "print(f\"The regression equation is: {line_eq_north}\")\n",
    "# Show plot\n",
    "plt.show()\n",
    "plt.tight_layout()\n",
    "# Save the figure\n",
    "plt.savefig(\"LatitudeVsMaxTempPlotWithRegrssNorth.png\")\n",
    "\n"
   ]
  },
  {
   "cell_type": "code",
   "execution_count": null,
   "metadata": {},
   "outputs": [],
   "source": []
  },
  {
   "cell_type": "code",
   "execution_count": null,
   "metadata": {},
   "outputs": [],
   "source": []
  },
  {
   "cell_type": "markdown",
   "metadata": {},
   "source": [
    "####  Southern Hemisphere - Max Temp vs. Latitude Linear Regression"
   ]
  },
  {
   "cell_type": "code",
   "execution_count": null,
   "metadata": {},
   "outputs": [],
   "source": []
  },
  {
   "cell_type": "code",
   "execution_count": null,
   "metadata": {},
   "outputs": [],
   "source": [
    "# Latitude vs Temp Scatter Plot with regression SOUTH hemisphere\n",
    "\n",
    "(slope, intercept, rvalue, pvalue, stderr) = linregress(lat_south_values, temp_south_values)\n",
    "\n",
    "# Get regression values\n",
    "regress_values_south = lat_south_values * slope + intercept\n",
    "line_eq_south= \"y = \" + str(round(slope,2)) + \"x +\" + str(round(intercept,2))\n",
    "\n",
    "# Create Plot\n",
    "plt.scatter(lat_south_values,temp_south_values,marker=\"o\")\n",
    "plt.plot(lat_south_values,regress_values_south,\"r-\")\n",
    "\n",
    "\n",
    "# Label plot and annotate the line equation\n",
    "plt.title(\"City Latitude vs. Max Temperature with Linear Regression Line\\nSouth Hemisphere\")\n",
    "plt.ylabel(\"Max Temperature (F)\")\n",
    "plt.xlabel(\"Latitude\")\n",
    "plt.grid(True)\n",
    "plt.annotate(line_eq_north,(0,0),fontsize=15,color=\"red\") \n",
    "# I cannot get the line equation to annotate correctly.  \n",
    "# per class, the () tuple specifies the lower left corner of the equation\n",
    "# but after 20 minutes I still can't figure it out and don't have an hour to spend on it\n",
    "\n",
    "# Print r value\n",
    "print(f\"The r-squared value is: {rvalue**2}\")\n",
    "print(f\"The regression equation is: {line_eq_south}\")\n",
    "print(\"The graph is showing the \")\n",
    "print(\"The graph is showing the \")\n",
    "# Show plot\n",
    "plt.show()\n",
    "plt.tight_layout()\n",
    "# Save the figure\n",
    "plt.savefig(\"LatitudeVsMaxTempPlotWithRegrssSouth.png\")"
   ]
  },
  {
   "cell_type": "code",
   "execution_count": null,
   "metadata": {},
   "outputs": [],
   "source": [
    "print(\"The north hemisphere has a negative correlation between temperature and latitude, while the south has a positive correlation\")\n",
    "print(\"The R squared value is roughly 0.5 for both regression equations, meaning the equations are only moderately good at\\n predicting max temperature based on latitude.\")"
   ]
  },
  {
   "cell_type": "code",
   "execution_count": null,
   "metadata": {},
   "outputs": [],
   "source": []
  },
  {
   "cell_type": "code",
   "execution_count": null,
   "metadata": {},
   "outputs": [],
   "source": []
  },
  {
   "cell_type": "markdown",
   "metadata": {},
   "source": [
    "####  Northern Hemisphere - Humidity (%) vs. Latitude Linear Regression"
   ]
  },
  {
   "cell_type": "code",
   "execution_count": null,
   "metadata": {},
   "outputs": [],
   "source": [
    "# Humidity vs LatScatter Plot with regression north hemisphere\n",
    "\n",
    "(slope, intercept, rvalue, pvalue, stderr) = linregress(lat_north_values, humid_north_values)\n",
    "\n",
    "# Get regression values\n",
    "regress_values_north = lat_north_values * slope + intercept\n",
    "line_eq_north= \"y = \" + str(round(slope,2)) + \"x +\" + str(round(intercept,2))\n",
    "\n",
    "# Create Plot\n",
    "plt.scatter(lat_north_values,humid_north_values,marker=\"o\")\n",
    "plt.plot(lat_north_values,regress_values_north,\"r-\")\n",
    "\n",
    "\n",
    "# Label plot and annotate the line equation\n",
    "plt.title(\"City Latitude vs. Humidity with Linear Regression Line\\nNorth Hemisphere\")\n",
    "plt.ylabel(\"Humidity (%)\")\n",
    "plt.xlabel(\"Latitude\")\n",
    "plt.grid(True)\n",
    "plt.annotate(line_eq_north,(20,15),fontsize=15,color=\"red\") \n",
    "# I cannot get the line equation to annotate correctly.  \n",
    "# per class, the () tuple specifies the lower left corner of the equation\n",
    "# but after 20 minutes I still can't figure it out and don't have an hour to spend on it\n",
    "\n",
    "# Print r value\n",
    "print(f\"The r-squared value is: {rvalue**2}\")\n",
    "print(f\"The regression equation is: {line_eq_north}\")\n",
    "# Show plot\n",
    "plt.show()\n",
    "plt.tight_layout()\n",
    "# Save the figure\n",
    "plt.savefig(\"LatitudeVsHumidPlotWithRegrssNorth.png\")"
   ]
  },
  {
   "cell_type": "code",
   "execution_count": null,
   "metadata": {},
   "outputs": [],
   "source": []
  },
  {
   "cell_type": "code",
   "execution_count": null,
   "metadata": {},
   "outputs": [],
   "source": []
  },
  {
   "cell_type": "code",
   "execution_count": null,
   "metadata": {},
   "outputs": [],
   "source": []
  },
  {
   "cell_type": "code",
   "execution_count": null,
   "metadata": {},
   "outputs": [],
   "source": []
  },
  {
   "cell_type": "markdown",
   "metadata": {},
   "source": [
    "####  Southern Hemisphere - Humidity (%) vs. Latitude Linear Regression"
   ]
  },
  {
   "cell_type": "code",
   "execution_count": null,
   "metadata": {},
   "outputs": [],
   "source": [
    "# Humidity vs LatScatter Plot with regression SOUTH hemisphere\n",
    "\n",
    "(slope, intercept, rvalue, pvalue, stderr) = linregress(lat_south_values, humid_south_values)\n",
    "\n",
    "# Get regression values\n",
    "regress_values_south = lat_south_values * slope + intercept\n",
    "line_eq_south= \"y = \" + str(round(slope,2)) + \"x +\" + str(round(intercept,2))\n",
    "\n",
    "# Create Plot\n",
    "plt.scatter(lat_south_values,humid_south_values,marker=\"o\")\n",
    "plt.plot(lat_south_values,regress_values_south,\"r-\")\n",
    "\n",
    "\n",
    "# Label plot and annotate the line equation\n",
    "plt.title(\"City Latitude vs. Humidity with Linear Regression Line\\nSouth Hemisphere\")\n",
    "plt.ylabel(\"Humidity (%)\")\n",
    "plt.xlabel(\"Latitude\")\n",
    "plt.grid(True)\n",
    "plt.annotate(line_eq_south,(20,15),fontsize=15,color=\"red\") \n",
    "# I cannot get the line equation to annotate correctly.  \n",
    "# per class, the () tuple specifies the lower left corner of the equation\n",
    "# but after 20 minutes I still can't figure it out and don't have an hour to spend on it\n",
    "\n",
    "# Print r value\n",
    "print(f\"The r-squared value is: {rvalue**2}\")\n",
    "print(f\"The regression equation is: {line_eq_south}\")\n",
    "# Show plot\n",
    "plt.show()\n",
    "plt.tight_layout()\n",
    "# Save the figure\n",
    "plt.savefig(\"LatitudeVHumidPlotWithRegrssSouth.png\")"
   ]
  },
  {
   "cell_type": "code",
   "execution_count": null,
   "metadata": {},
   "outputs": [],
   "source": [
    "print('The regression lines for both the north and south hemisphere have a slightly positive slope, indicating a\\n very weak correlation between humidity and latitude.')\n",
    "print(\"The R squared value is roughly 0 for both regression equations, meaning the equations cannot be relied on to\\n predict humidity based on latitude.\")"
   ]
  },
  {
   "cell_type": "code",
   "execution_count": null,
   "metadata": {},
   "outputs": [],
   "source": []
  },
  {
   "cell_type": "code",
   "execution_count": null,
   "metadata": {},
   "outputs": [],
   "source": []
  },
  {
   "cell_type": "code",
   "execution_count": null,
   "metadata": {},
   "outputs": [],
   "source": []
  },
  {
   "cell_type": "markdown",
   "metadata": {},
   "source": [
    "####  Northern Hemisphere - Cloudiness (%) vs. Latitude Linear Regression"
   ]
  },
  {
   "cell_type": "code",
   "execution_count": null,
   "metadata": {},
   "outputs": [],
   "source": [
    "# Cloudiness vs LatScatter Plot with regression north hemisphere\n",
    "\n",
    "(slope, intercept, rvalue, pvalue, stderr) = linregress(lat_north_values, cloud_north_values)\n",
    "\n",
    "# Get regression values\n",
    "regress_values_north = lat_north_values * slope + intercept\n",
    "line_eq_north= \"y = \" + str(round(slope,2)) + \"x +\" + str(round(intercept,2))\n",
    "\n",
    "# Create Plot\n",
    "plt.scatter(lat_north_values,humid_north_values,marker=\"o\")\n",
    "plt.plot(lat_north_values,regress_values_north,\"r-\")\n",
    "\n",
    "\n",
    "# Label plot and annotate the line equation\n",
    "plt.title(\"City Latitude vs. Cloudiness with Linear Regression Line\\nNorth Hemisphere\")\n",
    "plt.ylabel(\"Cloudiness (%)\")\n",
    "plt.xlabel(\"Latitude\")\n",
    "plt.grid(True)\n",
    "plt.annotate(line_eq_north,(20,15),fontsize=15,color=\"red\") \n",
    "# I cannot get the line equation to annotate correctly.  \n",
    "# per class, the () tuple specifies the lower left corner of the equation\n",
    "# but after 20 minutes I still can't figure it out and don't have an hour to spend on it\n",
    "\n",
    "# Print r value\n",
    "print(f\"The r-squared value is: {rvalue**2}\")\n",
    "print(f\"The regression equation is: {line_eq_north}\")\n",
    "# Show plot\n",
    "plt.show()\n",
    "plt.tight_layout()\n",
    "# Save the figure\n",
    "plt.savefig(\"LatitudeVsCloudPlotWithRegrssNorth.png\")"
   ]
  },
  {
   "cell_type": "code",
   "execution_count": null,
   "metadata": {},
   "outputs": [],
   "source": []
  },
  {
   "cell_type": "code",
   "execution_count": null,
   "metadata": {},
   "outputs": [],
   "source": []
  },
  {
   "cell_type": "code",
   "execution_count": null,
   "metadata": {},
   "outputs": [],
   "source": []
  },
  {
   "cell_type": "code",
   "execution_count": null,
   "metadata": {},
   "outputs": [],
   "source": []
  },
  {
   "cell_type": "markdown",
   "metadata": {},
   "source": [
    "####  Southern Hemisphere - Cloudiness (%) vs. Latitude Linear Regression"
   ]
  },
  {
   "cell_type": "code",
   "execution_count": null,
   "metadata": {},
   "outputs": [],
   "source": [
    "# Cloudiness vs LatScatter Plot with regression north hemisphere\n",
    "\n",
    "(slope, intercept, rvalue, pvalue, stderr) = linregress(lat_south_values, cloud_south_values)\n",
    "\n",
    "# Get regression values\n",
    "regress_values_south = lat_south_values * slope + intercept\n",
    "line_eq_south= \"y = \" + str(round(slope,2)) + \"x +\" + str(round(intercept,2))\n",
    "\n",
    "# Create Plot\n",
    "plt.scatter(lat_south_values,humid_south_values,marker=\"o\")\n",
    "plt.plot(lat_south_values,regress_values_south,\"r-\")\n",
    "\n",
    "\n",
    "# Label plot and annotate the line equation\n",
    "plt.title(\"City Latitude vs. Cloudiness with Linear Regression Line\\nSouth Hemisphere\")\n",
    "plt.ylabel(\"Cloudiness (%)\")\n",
    "plt.xlabel(\"Latitude\")\n",
    "plt.grid(True)\n",
    "plt.annotate(line_eq_south,(20,15),fontsize=15,color=\"red\") \n",
    "# I cannot get the line equation to annotate correctly.  \n",
    "# per class, the () tuple specifies the lower left corner of the equation\n",
    "# but after 20 minutes I still can't figure it out and don't have an hour to spend on it\n",
    "\n",
    "# Print r value\n",
    "print(f\"The r-squared value is: {rvalue**2}\")\n",
    "print(f\"The regression equation is: {line_eq_south}\")\n",
    "# Show plot\n",
    "plt.show()\n",
    "plt.tight_layout()\n",
    "# Save the figure\n",
    "plt.savefig(\"LatitudeVsCloudPlotWithRegrssSouth.png\")"
   ]
  },
  {
   "cell_type": "code",
   "execution_count": null,
   "metadata": {},
   "outputs": [],
   "source": [
    "print('The results for cloudiness are very similar to the results for humidity.')\n",
    "print('The regression lines for both the north and south hemisphere have a slightly positive slope, indicating a\\n very weak correlation between humidity and latitude.')\n",
    "print(\"The R squared value is roughly 0 for both regression equations, meaning the equations cannot be relied on to\\n predict cloudiness based on latitude.\")"
   ]
  },
  {
   "cell_type": "code",
   "execution_count": null,
   "metadata": {},
   "outputs": [],
   "source": []
  },
  {
   "cell_type": "code",
   "execution_count": null,
   "metadata": {},
   "outputs": [],
   "source": []
  },
  {
   "cell_type": "markdown",
   "metadata": {},
   "source": [
    "####  Northern Hemisphere - Wind Speed (mph) vs. Latitude Linear Regression"
   ]
  },
  {
   "cell_type": "code",
   "execution_count": null,
   "metadata": {},
   "outputs": [],
   "source": [
    "# Wind vs LatScatter Plot with regression North hemisphere\n",
    "\n",
    "(slope, intercept, rvalue, pvalue, stderr) = linregress(lat_north_values, wind_north_values)\n",
    "\n",
    "# Get regression values\n",
    "regress_values_north = lat_north_values * slope + intercept\n",
    "line_eq_north= \"y = \" + str(round(slope,2)) + \"x +\" + str(round(intercept,2))\n",
    "\n",
    "# Create Plot\n",
    "plt.scatter(lat_north_values,wind_north_values,marker=\"o\")\n",
    "plt.plot(lat_north_values,regress_values_north,\"r-\")\n",
    "\n",
    "\n",
    "# Label plot and annotate the line equation\n",
    "plt.title(\"City Latitude vs. Wind Speed with Linear Regression Line\\nNorth Hemisphere\")\n",
    "plt.ylabel(\"Wind Speed (mph)\")\n",
    "plt.xlabel(\"Latitude\")\n",
    "plt.grid(True)\n",
    "plt.annotate(line_eq_north,(20,15),fontsize=15,color=\"red\") \n",
    "# I cannot get the line equation to annotate correctly.  \n",
    "# per class, the () tuple specifies the lower left corner of the equation\n",
    "# but after 20 minutes I still can't figure it out and don't have an hour to spend on it\n",
    "\n",
    "# Print r value\n",
    "print(f\"The r-squared value is: {rvalue**2}\")\n",
    "print(f\"The regression equation is: {line_eq_north}\")\n",
    "# Show plot\n",
    "plt.show()\n",
    "plt.tight_layout()\n",
    "# Save the figure\n",
    "plt.savefig(\"LatitudeVsWindSpeedWithRegrssNorth.png\")"
   ]
  },
  {
   "cell_type": "code",
   "execution_count": null,
   "metadata": {},
   "outputs": [],
   "source": []
  },
  {
   "cell_type": "code",
   "execution_count": null,
   "metadata": {},
   "outputs": [],
   "source": []
  },
  {
   "cell_type": "code",
   "execution_count": null,
   "metadata": {},
   "outputs": [],
   "source": []
  },
  {
   "cell_type": "markdown",
   "metadata": {},
   "source": [
    "####  Southern Hemisphere - Wind Speed (mph) vs. Latitude Linear Regression"
   ]
  },
  {
   "cell_type": "code",
   "execution_count": null,
   "metadata": {},
   "outputs": [],
   "source": [
    "# Wind vs LatScatter Plot with regression South hemisphere\n",
    "\n",
    "(slope, intercept, rvalue, pvalue, stderr) = linregress(lat_south_values, wind_south_values)\n",
    "\n",
    "# Get regression values\n",
    "regress_values_south = lat_south_values * slope + intercept\n",
    "line_eq_south= \"y = \" + str(round(slope,2)) + \"x +\" + str(round(intercept,2))\n",
    "\n",
    "# Create Plot\n",
    "plt.scatter(lat_south_values,wind_south_values,marker=\"o\")\n",
    "plt.plot(lat_south_values,regress_values_south,\"r-\")\n",
    "\n",
    "\n",
    "# Label plot and annotate the line equation\n",
    "plt.title(\"City Latitude vs. Wind Speed with Linear Regression Line\\nSouth Hemisphere\")\n",
    "plt.ylabel(\"Wind Speed (mph)\")\n",
    "plt.xlabel(\"Latitude\")\n",
    "plt.grid(True)\n",
    "plt.annotate(line_eq_south,(-50,20),fontsize=15,color=\"red\") \n",
    "# I cannot get the line equation to annotate correctly.  \n",
    "# per class, the () tuple specifies the lower left corner of the equation\n",
    "# but after 20 minutes I still can't figure it out and don't have an hour to spend on it\n",
    "\n",
    "# Print r value\n",
    "print(f\"The r-squared value is: {rvalue**2}\")\n",
    "print(f\"The regression equation is: {line_eq_south}\")\n",
    "# Show plot\n",
    "plt.show()\n",
    "plt.tight_layout()\n",
    "# Save the figure\n",
    "plt.savefig(\"LatitudeVsWindSpeedWithRegrssSouth.png\")"
   ]
  },
  {
   "cell_type": "code",
   "execution_count": null,
   "metadata": {},
   "outputs": [],
   "source": [
    "print('The results for wind speed are very similar to the results for humidity and cloudiness.')\n",
    "print('The regression lines for both the north and south hemisphere have a slightly positive slope, indicating a\\n very weak correlation between humidity and latitude.')\n",
    "print(\"The R squared value is roughly 0 for both regression equations, meaning the equations cannot be relied on to\\n predict wind speed based on latitude.\")"
   ]
  },
  {
   "cell_type": "code",
   "execution_count": null,
   "metadata": {},
   "outputs": [],
   "source": []
  },
  {
   "cell_type": "code",
   "execution_count": null,
   "metadata": {},
   "outputs": [],
   "source": []
  },
  {
   "cell_type": "code",
   "execution_count": null,
   "metadata": {},
   "outputs": [],
   "source": []
  },
  {
   "cell_type": "code",
   "execution_count": null,
   "metadata": {},
   "outputs": [],
   "source": [
    "city_data_df.to_csv(\"city_data.csv\")\n",
    "city_data_clean_df.to_csv(\"city_data_clean.csv\")\n",
    "city_data_clean_north_df.to_csv(\"city_data_clean_north.csv\")\n",
    "city_data_clean_south_df.to_csv(\"city_data_clean_south.csv\")"
   ]
  },
  {
   "cell_type": "code",
   "execution_count": null,
   "metadata": {},
   "outputs": [],
   "source": []
  },
  {
   "cell_type": "code",
   "execution_count": null,
   "metadata": {},
   "outputs": [],
   "source": []
  }
 ],
 "metadata": {
  "anaconda-cloud": {},
  "kernel_info": {
   "name": "python3"
  },
  "kernelspec": {
   "display_name": "Python 3",
   "language": "python",
   "name": "python3"
  },
  "language_info": {
   "codemirror_mode": {
    "name": "ipython",
    "version": 3
   },
   "file_extension": ".py",
   "mimetype": "text/x-python",
   "name": "python",
   "nbconvert_exporter": "python",
   "pygments_lexer": "ipython3",
   "version": "3.8.8"
  },
  "latex_envs": {
   "LaTeX_envs_menu_present": true,
   "autoclose": false,
   "autocomplete": true,
   "bibliofile": "biblio.bib",
   "cite_by": "apalike",
   "current_citInitial": 1,
   "eqLabelWithNumbers": true,
   "eqNumInitial": 1,
   "hotkeys": {
    "equation": "Ctrl-E",
    "itemize": "Ctrl-I"
   },
   "labels_anchors": false,
   "latex_user_defs": false,
   "report_style_numbering": false,
   "user_envs_cfg": false
  },
  "nteract": {
   "version": "0.12.3"
  }
 },
 "nbformat": 4,
 "nbformat_minor": 2
}
